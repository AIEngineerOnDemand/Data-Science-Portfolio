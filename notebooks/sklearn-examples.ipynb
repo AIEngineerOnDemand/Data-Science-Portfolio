{
 "cells": [
  {
   "cell_type": "code",
   "execution_count": null,
   "metadata": {},
   "outputs": [],
   "source": [
    "from src.models.train_models import train_models\n",
    "from sklearn import datasets\n",
    "\n",
    "# Load the dataset\n",
    "data = datasets.load_breast_cancer()\n",
    "\n",
    "# Get the features and the target\n",
    "X = data.data\n",
    "y = data.target\n",
    "\n",
    "# Train and compare models\n",
    "train_models(X, y)"
   ]
  },
  {
   "cell_type": "code",
   "execution_count": null,
   "metadata": {},
   "outputs": [],
   "source": []
  }
 ],
 "metadata": {
  "language_info": {
   "name": "python"
  }
 },
 "nbformat": 4,
 "nbformat_minor": 2
}
